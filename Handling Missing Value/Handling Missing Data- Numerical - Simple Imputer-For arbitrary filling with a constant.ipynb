{
 "cells": [
  {
   "cell_type": "code",
   "execution_count": 1,
   "id": "e088ab3e",
   "metadata": {},
   "outputs": [],
   "source": [
    "import pandas as pd\n",
    "import numpy as np\n",
    "import matplotlib.pyplot as plt\n",
    "from sklearn.model_selection import train_test_split\n",
    "from sklearn.impute import SimpleImputer\n",
    "from sklearn.compose import ColumnTransformer"
   ]
  },
  {
   "cell_type": "code",
   "execution_count": 2,
   "id": "ee2130ec",
   "metadata": {},
   "outputs": [],
   "source": [
    "df = pd.read_csv(\"titanic_toy.csv\")"
   ]
  },
  {
   "cell_type": "code",
   "execution_count": 3,
   "id": "383056ca",
   "metadata": {},
   "outputs": [
    {
     "data": {
      "text/html": [
       "<div>\n",
       "<style scoped>\n",
       "    .dataframe tbody tr th:only-of-type {\n",
       "        vertical-align: middle;\n",
       "    }\n",
       "\n",
       "    .dataframe tbody tr th {\n",
       "        vertical-align: top;\n",
       "    }\n",
       "\n",
       "    .dataframe thead th {\n",
       "        text-align: right;\n",
       "    }\n",
       "</style>\n",
       "<table border=\"1\" class=\"dataframe\">\n",
       "  <thead>\n",
       "    <tr style=\"text-align: right;\">\n",
       "      <th></th>\n",
       "      <th>Age</th>\n",
       "      <th>Fare</th>\n",
       "      <th>Family</th>\n",
       "      <th>Survived</th>\n",
       "    </tr>\n",
       "  </thead>\n",
       "  <tbody>\n",
       "    <tr>\n",
       "      <th>0</th>\n",
       "      <td>22.0</td>\n",
       "      <td>7.2500</td>\n",
       "      <td>1</td>\n",
       "      <td>0</td>\n",
       "    </tr>\n",
       "    <tr>\n",
       "      <th>1</th>\n",
       "      <td>38.0</td>\n",
       "      <td>71.2833</td>\n",
       "      <td>1</td>\n",
       "      <td>1</td>\n",
       "    </tr>\n",
       "    <tr>\n",
       "      <th>2</th>\n",
       "      <td>26.0</td>\n",
       "      <td>7.9250</td>\n",
       "      <td>0</td>\n",
       "      <td>1</td>\n",
       "    </tr>\n",
       "    <tr>\n",
       "      <th>3</th>\n",
       "      <td>35.0</td>\n",
       "      <td>53.1000</td>\n",
       "      <td>1</td>\n",
       "      <td>1</td>\n",
       "    </tr>\n",
       "    <tr>\n",
       "      <th>4</th>\n",
       "      <td>35.0</td>\n",
       "      <td>8.0500</td>\n",
       "      <td>0</td>\n",
       "      <td>0</td>\n",
       "    </tr>\n",
       "  </tbody>\n",
       "</table>\n",
       "</div>"
      ],
      "text/plain": [
       "    Age     Fare  Family  Survived\n",
       "0  22.0   7.2500       1         0\n",
       "1  38.0  71.2833       1         1\n",
       "2  26.0   7.9250       0         1\n",
       "3  35.0  53.1000       1         1\n",
       "4  35.0   8.0500       0         0"
      ]
     },
     "execution_count": 3,
     "metadata": {},
     "output_type": "execute_result"
    }
   ],
   "source": [
    "df.head()"
   ]
  },
  {
   "cell_type": "code",
   "execution_count": 4,
   "id": "e54c5837",
   "metadata": {},
   "outputs": [
    {
     "data": {
      "text/plain": [
       "Age         19.865320\n",
       "Fare         5.050505\n",
       "Family       0.000000\n",
       "Survived     0.000000\n",
       "dtype: float64"
      ]
     },
     "execution_count": 4,
     "metadata": {},
     "output_type": "execute_result"
    }
   ],
   "source": [
    "df.isnull().mean()*100"
   ]
  },
  {
   "cell_type": "code",
   "execution_count": 5,
   "id": "4e119b88",
   "metadata": {},
   "outputs": [],
   "source": [
    "X = df.iloc[:,:-1]\n",
    "y = df.iloc[:,-1]"
   ]
  },
  {
   "cell_type": "code",
   "execution_count": 6,
   "id": "de4c1535",
   "metadata": {},
   "outputs": [],
   "source": [
    " X_train,X_test,y_train,y_test = train_test_split(X,y,test_size=0.2,random_state=42)"
   ]
  },
  {
   "cell_type": "code",
   "execution_count": 7,
   "id": "c0a4909d",
   "metadata": {},
   "outputs": [
    {
     "data": {
      "text/plain": [
       "Age       19.662921\n",
       "Fare       5.056180\n",
       "Family     0.000000\n",
       "dtype: float64"
      ]
     },
     "execution_count": 7,
     "metadata": {},
     "output_type": "execute_result"
    }
   ],
   "source": [
    "X_train.isnull().mean()*100"
   ]
  },
  {
   "cell_type": "code",
   "execution_count": 8,
   "id": "d177c8f6",
   "metadata": {},
   "outputs": [
    {
     "data": {
      "text/html": [
       "<div>\n",
       "<style scoped>\n",
       "    .dataframe tbody tr th:only-of-type {\n",
       "        vertical-align: middle;\n",
       "    }\n",
       "\n",
       "    .dataframe tbody tr th {\n",
       "        vertical-align: top;\n",
       "    }\n",
       "\n",
       "    .dataframe thead th {\n",
       "        text-align: right;\n",
       "    }\n",
       "</style>\n",
       "<table border=\"1\" class=\"dataframe\">\n",
       "  <thead>\n",
       "    <tr style=\"text-align: right;\">\n",
       "      <th></th>\n",
       "      <th>Age</th>\n",
       "      <th>Fare</th>\n",
       "      <th>Family</th>\n",
       "    </tr>\n",
       "  </thead>\n",
       "  <tbody>\n",
       "    <tr>\n",
       "      <th>331</th>\n",
       "      <td>45.5</td>\n",
       "      <td>28.5000</td>\n",
       "      <td>0</td>\n",
       "    </tr>\n",
       "    <tr>\n",
       "      <th>733</th>\n",
       "      <td>23.0</td>\n",
       "      <td>13.0000</td>\n",
       "      <td>0</td>\n",
       "    </tr>\n",
       "    <tr>\n",
       "      <th>382</th>\n",
       "      <td>32.0</td>\n",
       "      <td>7.9250</td>\n",
       "      <td>0</td>\n",
       "    </tr>\n",
       "    <tr>\n",
       "      <th>704</th>\n",
       "      <td>26.0</td>\n",
       "      <td>7.8542</td>\n",
       "      <td>1</td>\n",
       "    </tr>\n",
       "    <tr>\n",
       "      <th>813</th>\n",
       "      <td>6.0</td>\n",
       "      <td>31.2750</td>\n",
       "      <td>6</td>\n",
       "    </tr>\n",
       "    <tr>\n",
       "      <th>...</th>\n",
       "      <td>...</td>\n",
       "      <td>...</td>\n",
       "      <td>...</td>\n",
       "    </tr>\n",
       "    <tr>\n",
       "      <th>106</th>\n",
       "      <td>21.0</td>\n",
       "      <td>7.6500</td>\n",
       "      <td>0</td>\n",
       "    </tr>\n",
       "    <tr>\n",
       "      <th>270</th>\n",
       "      <td>NaN</td>\n",
       "      <td>31.0000</td>\n",
       "      <td>0</td>\n",
       "    </tr>\n",
       "    <tr>\n",
       "      <th>860</th>\n",
       "      <td>41.0</td>\n",
       "      <td>NaN</td>\n",
       "      <td>2</td>\n",
       "    </tr>\n",
       "    <tr>\n",
       "      <th>435</th>\n",
       "      <td>14.0</td>\n",
       "      <td>120.0000</td>\n",
       "      <td>3</td>\n",
       "    </tr>\n",
       "    <tr>\n",
       "      <th>102</th>\n",
       "      <td>21.0</td>\n",
       "      <td>77.2875</td>\n",
       "      <td>1</td>\n",
       "    </tr>\n",
       "  </tbody>\n",
       "</table>\n",
       "<p>712 rows × 3 columns</p>\n",
       "</div>"
      ],
      "text/plain": [
       "      Age      Fare  Family\n",
       "331  45.5   28.5000       0\n",
       "733  23.0   13.0000       0\n",
       "382  32.0    7.9250       0\n",
       "704  26.0    7.8542       1\n",
       "813   6.0   31.2750       6\n",
       "..    ...       ...     ...\n",
       "106  21.0    7.6500       0\n",
       "270   NaN   31.0000       0\n",
       "860  41.0       NaN       2\n",
       "435  14.0  120.0000       3\n",
       "102  21.0   77.2875       1\n",
       "\n",
       "[712 rows x 3 columns]"
      ]
     },
     "execution_count": 8,
     "metadata": {},
     "output_type": "execute_result"
    }
   ],
   "source": [
    "X_train"
   ]
  },
  {
   "cell_type": "code",
   "execution_count": 9,
   "id": "90ab324d",
   "metadata": {},
   "outputs": [
    {
     "name": "stderr",
     "output_type": "stream",
     "text": [
      "/home/deependra/.local/lib/python3.6/site-packages/ipykernel_launcher.py:1: SettingWithCopyWarning: \n",
      "A value is trying to be set on a copy of a slice from a DataFrame.\n",
      "Try using .loc[row_indexer,col_indexer] = value instead\n",
      "\n",
      "See the caveats in the documentation: https://pandas.pydata.org/pandas-docs/stable/user_guide/indexing.html#returning-a-view-versus-a-copy\n",
      "  \"\"\"Entry point for launching an IPython kernel.\n",
      "/home/deependra/.local/lib/python3.6/site-packages/ipykernel_launcher.py:2: SettingWithCopyWarning: \n",
      "A value is trying to be set on a copy of a slice from a DataFrame.\n",
      "Try using .loc[row_indexer,col_indexer] = value instead\n",
      "\n",
      "See the caveats in the documentation: https://pandas.pydata.org/pandas-docs/stable/user_guide/indexing.html#returning-a-view-versus-a-copy\n",
      "  \n"
     ]
    }
   ],
   "source": [
    "X_train[\"Age_-1\"] = X_train[\"Age\"].fillna(-1)\n",
    "X_train[\"Age_99\"] = X_train[\"Age\"].fillna(99)"
   ]
  },
  {
   "cell_type": "code",
   "execution_count": 13,
   "id": "5b7a01b6",
   "metadata": {},
   "outputs": [
    {
     "name": "stderr",
     "output_type": "stream",
     "text": [
      "/home/deependra/.local/lib/python3.6/site-packages/ipykernel_launcher.py:1: SettingWithCopyWarning: \n",
      "A value is trying to be set on a copy of a slice from a DataFrame.\n",
      "Try using .loc[row_indexer,col_indexer] = value instead\n",
      "\n",
      "See the caveats in the documentation: https://pandas.pydata.org/pandas-docs/stable/user_guide/indexing.html#returning-a-view-versus-a-copy\n",
      "  \"\"\"Entry point for launching an IPython kernel.\n",
      "/home/deependra/.local/lib/python3.6/site-packages/ipykernel_launcher.py:2: SettingWithCopyWarning: \n",
      "A value is trying to be set on a copy of a slice from a DataFrame.\n",
      "Try using .loc[row_indexer,col_indexer] = value instead\n",
      "\n",
      "See the caveats in the documentation: https://pandas.pydata.org/pandas-docs/stable/user_guide/indexing.html#returning-a-view-versus-a-copy\n",
      "  \n"
     ]
    }
   ],
   "source": [
    "X_train[\"Fare_-11\"] = X_train[\"Fare\"].fillna(-11)\n",
    "X_train[\"Fare_999.99\"] = X_train[\"Fare\"].fillna(999.99)"
   ]
  },
  {
   "cell_type": "code",
   "execution_count": 14,
   "id": "7132f8e3",
   "metadata": {},
   "outputs": [
    {
     "data": {
      "text/html": [
       "<div>\n",
       "<style scoped>\n",
       "    .dataframe tbody tr th:only-of-type {\n",
       "        vertical-align: middle;\n",
       "    }\n",
       "\n",
       "    .dataframe tbody tr th {\n",
       "        vertical-align: top;\n",
       "    }\n",
       "\n",
       "    .dataframe thead th {\n",
       "        text-align: right;\n",
       "    }\n",
       "</style>\n",
       "<table border=\"1\" class=\"dataframe\">\n",
       "  <thead>\n",
       "    <tr style=\"text-align: right;\">\n",
       "      <th></th>\n",
       "      <th>Age</th>\n",
       "      <th>Fare</th>\n",
       "      <th>Family</th>\n",
       "      <th>Age_-1</th>\n",
       "      <th>Age_99</th>\n",
       "      <th>Fare_mean</th>\n",
       "      <th>Fare_median</th>\n",
       "      <th>Fare_-11</th>\n",
       "      <th>Fare_999.99</th>\n",
       "    </tr>\n",
       "  </thead>\n",
       "  <tbody>\n",
       "    <tr>\n",
       "      <th>331</th>\n",
       "      <td>45.5</td>\n",
       "      <td>28.5000</td>\n",
       "      <td>0</td>\n",
       "      <td>45.5</td>\n",
       "      <td>45.5</td>\n",
       "      <td>28.500000</td>\n",
       "      <td>28.5000</td>\n",
       "      <td>28.5000</td>\n",
       "      <td>28.5000</td>\n",
       "    </tr>\n",
       "    <tr>\n",
       "      <th>733</th>\n",
       "      <td>23.0</td>\n",
       "      <td>13.0000</td>\n",
       "      <td>0</td>\n",
       "      <td>23.0</td>\n",
       "      <td>23.0</td>\n",
       "      <td>13.000000</td>\n",
       "      <td>13.0000</td>\n",
       "      <td>13.0000</td>\n",
       "      <td>13.0000</td>\n",
       "    </tr>\n",
       "    <tr>\n",
       "      <th>382</th>\n",
       "      <td>32.0</td>\n",
       "      <td>7.9250</td>\n",
       "      <td>0</td>\n",
       "      <td>32.0</td>\n",
       "      <td>32.0</td>\n",
       "      <td>7.925000</td>\n",
       "      <td>7.9250</td>\n",
       "      <td>7.9250</td>\n",
       "      <td>7.9250</td>\n",
       "    </tr>\n",
       "    <tr>\n",
       "      <th>704</th>\n",
       "      <td>26.0</td>\n",
       "      <td>7.8542</td>\n",
       "      <td>1</td>\n",
       "      <td>26.0</td>\n",
       "      <td>26.0</td>\n",
       "      <td>7.854200</td>\n",
       "      <td>7.8542</td>\n",
       "      <td>7.8542</td>\n",
       "      <td>7.8542</td>\n",
       "    </tr>\n",
       "    <tr>\n",
       "      <th>813</th>\n",
       "      <td>6.0</td>\n",
       "      <td>31.2750</td>\n",
       "      <td>6</td>\n",
       "      <td>6.0</td>\n",
       "      <td>6.0</td>\n",
       "      <td>31.275000</td>\n",
       "      <td>31.2750</td>\n",
       "      <td>31.2750</td>\n",
       "      <td>31.2750</td>\n",
       "    </tr>\n",
       "    <tr>\n",
       "      <th>...</th>\n",
       "      <td>...</td>\n",
       "      <td>...</td>\n",
       "      <td>...</td>\n",
       "      <td>...</td>\n",
       "      <td>...</td>\n",
       "      <td>...</td>\n",
       "      <td>...</td>\n",
       "      <td>...</td>\n",
       "      <td>...</td>\n",
       "    </tr>\n",
       "    <tr>\n",
       "      <th>106</th>\n",
       "      <td>21.0</td>\n",
       "      <td>7.6500</td>\n",
       "      <td>0</td>\n",
       "      <td>21.0</td>\n",
       "      <td>21.0</td>\n",
       "      <td>7.650000</td>\n",
       "      <td>7.6500</td>\n",
       "      <td>7.6500</td>\n",
       "      <td>7.6500</td>\n",
       "    </tr>\n",
       "    <tr>\n",
       "      <th>270</th>\n",
       "      <td>NaN</td>\n",
       "      <td>31.0000</td>\n",
       "      <td>0</td>\n",
       "      <td>-1.0</td>\n",
       "      <td>99.0</td>\n",
       "      <td>31.000000</td>\n",
       "      <td>31.0000</td>\n",
       "      <td>31.0000</td>\n",
       "      <td>31.0000</td>\n",
       "    </tr>\n",
       "    <tr>\n",
       "      <th>860</th>\n",
       "      <td>41.0</td>\n",
       "      <td>NaN</td>\n",
       "      <td>2</td>\n",
       "      <td>41.0</td>\n",
       "      <td>41.0</td>\n",
       "      <td>32.517788</td>\n",
       "      <td>14.4000</td>\n",
       "      <td>-11.0000</td>\n",
       "      <td>999.9900</td>\n",
       "    </tr>\n",
       "    <tr>\n",
       "      <th>435</th>\n",
       "      <td>14.0</td>\n",
       "      <td>120.0000</td>\n",
       "      <td>3</td>\n",
       "      <td>14.0</td>\n",
       "      <td>14.0</td>\n",
       "      <td>120.000000</td>\n",
       "      <td>120.0000</td>\n",
       "      <td>120.0000</td>\n",
       "      <td>120.0000</td>\n",
       "    </tr>\n",
       "    <tr>\n",
       "      <th>102</th>\n",
       "      <td>21.0</td>\n",
       "      <td>77.2875</td>\n",
       "      <td>1</td>\n",
       "      <td>21.0</td>\n",
       "      <td>21.0</td>\n",
       "      <td>77.287500</td>\n",
       "      <td>77.2875</td>\n",
       "      <td>77.2875</td>\n",
       "      <td>77.2875</td>\n",
       "    </tr>\n",
       "  </tbody>\n",
       "</table>\n",
       "<p>712 rows × 9 columns</p>\n",
       "</div>"
      ],
      "text/plain": [
       "      Age      Fare  Family  Age_-1  Age_99   Fare_mean  Fare_median  \\\n",
       "331  45.5   28.5000       0    45.5    45.5   28.500000      28.5000   \n",
       "733  23.0   13.0000       0    23.0    23.0   13.000000      13.0000   \n",
       "382  32.0    7.9250       0    32.0    32.0    7.925000       7.9250   \n",
       "704  26.0    7.8542       1    26.0    26.0    7.854200       7.8542   \n",
       "813   6.0   31.2750       6     6.0     6.0   31.275000      31.2750   \n",
       "..    ...       ...     ...     ...     ...         ...          ...   \n",
       "106  21.0    7.6500       0    21.0    21.0    7.650000       7.6500   \n",
       "270   NaN   31.0000       0    -1.0    99.0   31.000000      31.0000   \n",
       "860  41.0       NaN       2    41.0    41.0   32.517788      14.4000   \n",
       "435  14.0  120.0000       3    14.0    14.0  120.000000     120.0000   \n",
       "102  21.0   77.2875       1    21.0    21.0   77.287500      77.2875   \n",
       "\n",
       "     Fare_-11  Fare_999.99  \n",
       "331   28.5000      28.5000  \n",
       "733   13.0000      13.0000  \n",
       "382    7.9250       7.9250  \n",
       "704    7.8542       7.8542  \n",
       "813   31.2750      31.2750  \n",
       "..        ...          ...  \n",
       "106    7.6500       7.6500  \n",
       "270   31.0000      31.0000  \n",
       "860  -11.0000     999.9900  \n",
       "435  120.0000     120.0000  \n",
       "102   77.2875      77.2875  \n",
       "\n",
       "[712 rows x 9 columns]"
      ]
     },
     "execution_count": 14,
     "metadata": {},
     "output_type": "execute_result"
    }
   ],
   "source": [
    "X_train"
   ]
  },
  {
   "cell_type": "code",
   "execution_count": 15,
   "id": "7e0fe0b4",
   "metadata": {},
   "outputs": [
    {
     "name": "stdout",
     "output_type": "stream",
     "text": [
      "The variance original value - 210.2517072477435\n",
      "The variance after imputing the mean of Age - 315.9955036260055\n",
      "The variance after imputing the median of Age - 932.9665366701432\n",
      "The variance original value - 2761.0314349486343\n",
      "The variance after imputing the mean of Fare - 2712.2725787194377\n",
      "The variance after imputing the median of Fare - 47617.51153257309\n"
     ]
    }
   ],
   "source": [
    "print(\"The variance original value -\",X_train[\"Age\"].var())\n",
    "print(\"The variance after imputing the mean of Age -\",X_train[\"Age_-1\"].var())\n",
    "print(\"The variance after imputing the median of Age -\",X_train[\"Age_99\"].var())\n",
    "\n",
    "print(\"The variance original value -\",X_train[\"Fare\"].var())\n",
    "print(\"The variance after imputing the mean of Fare -\",X_train[\"Fare_-11\"].var())\n",
    "print(\"The variance after imputing the median of Fare -\",X_train[\"Fare_999.99\"].var())"
   ]
  },
  {
   "cell_type": "code",
   "execution_count": 17,
   "id": "8f67d760",
   "metadata": {},
   "outputs": [],
   "source": [
    "import seaborn as sns"
   ]
  },
  {
   "cell_type": "code",
   "execution_count": 18,
   "id": "b626f3da",
   "metadata": {},
   "outputs": [
    {
     "data": {
      "image/png": "[encoded data removed]",
      "text/plain": [
       "<Figure size 576x576 with 1 Axes>"
      ]
     },
     "metadata": {
      "needs_background": "light"
     },
     "output_type": "display_data"
    }
   ],
   "source": [
    "plt.figure(figsize=(8,8))\n",
    "\n",
    "sns.histplot(X_train[\"Age\"], kde = True)\n",
    "sns.histplot(X_train[\"Age_-1\"], color = \"green\", kde = True)\n",
    "sns.histplot(X_train[\"Age_99\"], color = \"red\", kde = True)\n",
    "plt.show()"
   ]
  },
  {
   "cell_type": "code",
   "execution_count": 19,
   "id": "cd6baf4f",
   "metadata": {},
   "outputs": [
    {
     "data": {
      "image/png": "[encoded data removed]",
      "text/plain": [
       "<Figure size 576x576 with 1 Axes>"
      ]
     },
     "metadata": {
      "needs_background": "light"
     },
     "output_type": "display_data"
    }
   ],
   "source": [
    "plt.figure(figsize=(8,8))\n",
    "\n",
    "X_train[\"Fare\"].plot(kind = \"kde\", color = \"blue\")\n",
    "X_train[\"Fare_-11\"].plot(kind = \"kde\", color = \"red\")\n",
    "X_train[\"Fare_999.99\"].plot(kind = \"kde\", color = \"green\")\n",
    "plt.show()"
   ]
  },
  {
   "cell_type": "code",
   "execution_count": 20,
   "id": "648a9742",
   "metadata": {},
   "outputs": [
    {
     "data": {
      "text/html": [
       "<div>\n",
       "<style scoped>\n",
       "    .dataframe tbody tr th:only-of-type {\n",
       "        vertical-align: middle;\n",
       "    }\n",
       "\n",
       "    .dataframe tbody tr th {\n",
       "        vertical-align: top;\n",
       "    }\n",
       "\n",
       "    .dataframe thead th {\n",
       "        text-align: right;\n",
       "    }\n",
       "</style>\n",
       "<table border=\"1\" class=\"dataframe\">\n",
       "  <thead>\n",
       "    <tr style=\"text-align: right;\">\n",
       "      <th></th>\n",
       "      <th>Age</th>\n",
       "      <th>Fare</th>\n",
       "      <th>Family</th>\n",
       "      <th>Age_-1</th>\n",
       "      <th>Age_99</th>\n",
       "      <th>Fare_mean</th>\n",
       "      <th>Fare_median</th>\n",
       "      <th>Fare_-11</th>\n",
       "      <th>Fare_999.99</th>\n",
       "    </tr>\n",
       "  </thead>\n",
       "  <tbody>\n",
       "    <tr>\n",
       "      <th>Age</th>\n",
       "      <td>210.251707</td>\n",
       "      <td>75.481375</td>\n",
       "      <td>-6.993325</td>\n",
       "      <td>210.251707</td>\n",
       "      <td>210.251707</td>\n",
       "      <td>71.193767</td>\n",
       "      <td>70.082085</td>\n",
       "      <td>68.523576</td>\n",
       "      <td>130.556523</td>\n",
       "    </tr>\n",
       "    <tr>\n",
       "      <th>Fare</th>\n",
       "      <td>75.481375</td>\n",
       "      <td>2761.031435</td>\n",
       "      <td>18.599163</td>\n",
       "      <td>135.785804</td>\n",
       "      <td>-111.965046</td>\n",
       "      <td>2761.031435</td>\n",
       "      <td>2761.031435</td>\n",
       "      <td>2761.031435</td>\n",
       "      <td>2761.031435</td>\n",
       "    </tr>\n",
       "    <tr>\n",
       "      <th>Family</th>\n",
       "      <td>-6.993325</td>\n",
       "      <td>18.599163</td>\n",
       "      <td>2.830892</td>\n",
       "      <td>-5.034556</td>\n",
       "      <td>-6.941982</td>\n",
       "      <td>17.657433</td>\n",
       "      <td>17.672035</td>\n",
       "      <td>17.692507</td>\n",
       "      <td>16.877695</td>\n",
       "    </tr>\n",
       "    <tr>\n",
       "      <th>Age_-1</th>\n",
       "      <td>210.251707</td>\n",
       "      <td>135.785804</td>\n",
       "      <td>-5.034556</td>\n",
       "      <td>315.995504</td>\n",
       "      <td>-166.460682</td>\n",
       "      <td>128.910574</td>\n",
       "      <td>126.402311</td>\n",
       "      <td>122.885885</td>\n",
       "      <td>262.849342</td>\n",
       "    </tr>\n",
       "    <tr>\n",
       "      <th>Age_99</th>\n",
       "      <td>210.251707</td>\n",
       "      <td>-111.965046</td>\n",
       "      <td>-6.941982</td>\n",
       "      <td>-166.460682</td>\n",
       "      <td>932.966537</td>\n",
       "      <td>-106.295930</td>\n",
       "      <td>-103.507347</td>\n",
       "      <td>-99.597929</td>\n",
       "      <td>-255.203540</td>\n",
       "    </tr>\n",
       "    <tr>\n",
       "      <th>Fare_mean</th>\n",
       "      <td>71.193767</td>\n",
       "      <td>2761.031435</td>\n",
       "      <td>17.657433</td>\n",
       "      <td>128.910574</td>\n",
       "      <td>-106.295930</td>\n",
       "      <td>2621.232375</td>\n",
       "      <td>2621.232375</td>\n",
       "      <td>2621.232375</td>\n",
       "      <td>2621.232375</td>\n",
       "    </tr>\n",
       "    <tr>\n",
       "      <th>Fare_median</th>\n",
       "      <td>70.082085</td>\n",
       "      <td>2761.031435</td>\n",
       "      <td>17.672035</td>\n",
       "      <td>126.402311</td>\n",
       "      <td>-103.507347</td>\n",
       "      <td>2621.232375</td>\n",
       "      <td>2637.012482</td>\n",
       "      <td>2659.135200</td>\n",
       "      <td>1778.590050</td>\n",
       "    </tr>\n",
       "    <tr>\n",
       "      <th>Fare_-11</th>\n",
       "      <td>68.523576</td>\n",
       "      <td>2761.031435</td>\n",
       "      <td>17.692507</td>\n",
       "      <td>122.885885</td>\n",
       "      <td>-99.597929</td>\n",
       "      <td>2621.232375</td>\n",
       "      <td>2659.135200</td>\n",
       "      <td>2712.272579</td>\n",
       "      <td>597.258456</td>\n",
       "    </tr>\n",
       "    <tr>\n",
       "      <th>Fare_999.99</th>\n",
       "      <td>130.556523</td>\n",
       "      <td>2761.031435</td>\n",
       "      <td>16.877695</td>\n",
       "      <td>262.849342</td>\n",
       "      <td>-255.203540</td>\n",
       "      <td>2621.232375</td>\n",
       "      <td>1778.590050</td>\n",
       "      <td>597.258456</td>\n",
       "      <td>47617.511533</td>\n",
       "    </tr>\n",
       "  </tbody>\n",
       "</table>\n",
       "</div>"
      ],
      "text/plain": [
       "                    Age         Fare     Family      Age_-1      Age_99  \\\n",
       "Age          210.251707    75.481375  -6.993325  210.251707  210.251707   \n",
       "Fare          75.481375  2761.031435  18.599163  135.785804 -111.965046   \n",
       "Family        -6.993325    18.599163   2.830892   -5.034556   -6.941982   \n",
       "Age_-1       210.251707   135.785804  -5.034556  315.995504 -166.460682   \n",
       "Age_99       210.251707  -111.965046  -6.941982 -166.460682  932.966537   \n",
       "Fare_mean     71.193767  2761.031435  17.657433  128.910574 -106.295930   \n",
       "Fare_median   70.082085  2761.031435  17.672035  126.402311 -103.507347   \n",
       "Fare_-11      68.523576  2761.031435  17.692507  122.885885  -99.597929   \n",
       "Fare_999.99  130.556523  2761.031435  16.877695  262.849342 -255.203540   \n",
       "\n",
       "               Fare_mean  Fare_median     Fare_-11   Fare_999.99  \n",
       "Age            71.193767    70.082085    68.523576    130.556523  \n",
       "Fare         2761.031435  2761.031435  2761.031435   2761.031435  \n",
       "Family         17.657433    17.672035    17.692507     16.877695  \n",
       "Age_-1        128.910574   126.402311   122.885885    262.849342  \n",
       "Age_99       -106.295930  -103.507347   -99.597929   -255.203540  \n",
       "Fare_mean    2621.232375  2621.232375  2621.232375   2621.232375  \n",
       "Fare_median  2621.232375  2637.012482  2659.135200   1778.590050  \n",
       "Fare_-11     2621.232375  2659.135200  2712.272579    597.258456  \n",
       "Fare_999.99  2621.232375  1778.590050   597.258456  47617.511533  "
      ]
     },
     "execution_count": 20,
     "metadata": {},
     "output_type": "execute_result"
    }
   ],
   "source": [
    "X_train.cov()"
   ]
  },
  {
   "cell_type": "code",
   "execution_count": 21,
   "id": "0c46082d",
   "metadata": {},
   "outputs": [
    {
     "data": {
      "text/html": [
       "<div>\n",
       "<style scoped>\n",
       "    .dataframe tbody tr th:only-of-type {\n",
       "        vertical-align: middle;\n",
       "    }\n",
       "\n",
       "    .dataframe tbody tr th {\n",
       "        vertical-align: top;\n",
       "    }\n",
       "\n",
       "    .dataframe thead th {\n",
       "        text-align: right;\n",
       "    }\n",
       "</style>\n",
       "<table border=\"1\" class=\"dataframe\">\n",
       "  <thead>\n",
       "    <tr style=\"text-align: right;\">\n",
       "      <th></th>\n",
       "      <th>Age</th>\n",
       "      <th>Fare</th>\n",
       "      <th>Family</th>\n",
       "      <th>Age_-1</th>\n",
       "      <th>Age_99</th>\n",
       "      <th>Fare_mean</th>\n",
       "      <th>Fare_median</th>\n",
       "      <th>Fare_-11</th>\n",
       "      <th>Fare_999.99</th>\n",
       "    </tr>\n",
       "  </thead>\n",
       "  <tbody>\n",
       "    <tr>\n",
       "      <th>Age</th>\n",
       "      <td>1.000000</td>\n",
       "      <td>0.091482</td>\n",
       "      <td>-0.319651</td>\n",
       "      <td>1.000000</td>\n",
       "      <td>1.000000</td>\n",
       "      <td>0.088944</td>\n",
       "      <td>0.087232</td>\n",
       "      <td>0.084089</td>\n",
       "      <td>0.039947</td>\n",
       "    </tr>\n",
       "    <tr>\n",
       "      <th>Fare</th>\n",
       "      <td>0.091482</td>\n",
       "      <td>1.000000</td>\n",
       "      <td>0.207193</td>\n",
       "      <td>0.145071</td>\n",
       "      <td>-0.069365</td>\n",
       "      <td>1.000000</td>\n",
       "      <td>1.000000</td>\n",
       "      <td>1.000000</td>\n",
       "      <td>1.000000</td>\n",
       "    </tr>\n",
       "    <tr>\n",
       "      <th>Family</th>\n",
       "      <td>-0.319651</td>\n",
       "      <td>0.207193</td>\n",
       "      <td>1.000000</td>\n",
       "      <td>-0.168329</td>\n",
       "      <td>-0.135079</td>\n",
       "      <td>0.204981</td>\n",
       "      <td>0.204536</td>\n",
       "      <td>0.201912</td>\n",
       "      <td>0.045969</td>\n",
       "    </tr>\n",
       "    <tr>\n",
       "      <th>Age_-1</th>\n",
       "      <td>1.000000</td>\n",
       "      <td>0.145071</td>\n",
       "      <td>-0.168329</td>\n",
       "      <td>1.000000</td>\n",
       "      <td>-0.306576</td>\n",
       "      <td>0.141643</td>\n",
       "      <td>0.138471</td>\n",
       "      <td>0.132738</td>\n",
       "      <td>0.067762</td>\n",
       "    </tr>\n",
       "    <tr>\n",
       "      <th>Age_99</th>\n",
       "      <td>1.000000</td>\n",
       "      <td>-0.069365</td>\n",
       "      <td>-0.135079</td>\n",
       "      <td>-0.306576</td>\n",
       "      <td>1.000000</td>\n",
       "      <td>-0.067972</td>\n",
       "      <td>-0.065991</td>\n",
       "      <td>-0.062611</td>\n",
       "      <td>-0.038289</td>\n",
       "    </tr>\n",
       "    <tr>\n",
       "      <th>Fare_mean</th>\n",
       "      <td>0.088944</td>\n",
       "      <td>1.000000</td>\n",
       "      <td>0.204981</td>\n",
       "      <td>0.141643</td>\n",
       "      <td>-0.067972</td>\n",
       "      <td>1.000000</td>\n",
       "      <td>0.997003</td>\n",
       "      <td>0.983074</td>\n",
       "      <td>0.234622</td>\n",
       "    </tr>\n",
       "    <tr>\n",
       "      <th>Fare_median</th>\n",
       "      <td>0.087232</td>\n",
       "      <td>1.000000</td>\n",
       "      <td>0.204536</td>\n",
       "      <td>0.138471</td>\n",
       "      <td>-0.065991</td>\n",
       "      <td>0.997003</td>\n",
       "      <td>1.000000</td>\n",
       "      <td>0.994301</td>\n",
       "      <td>0.158722</td>\n",
       "    </tr>\n",
       "    <tr>\n",
       "      <th>Fare_-11</th>\n",
       "      <td>0.084089</td>\n",
       "      <td>1.000000</td>\n",
       "      <td>0.201912</td>\n",
       "      <td>0.132738</td>\n",
       "      <td>-0.062611</td>\n",
       "      <td>0.983074</td>\n",
       "      <td>0.994301</td>\n",
       "      <td>1.000000</td>\n",
       "      <td>0.052555</td>\n",
       "    </tr>\n",
       "    <tr>\n",
       "      <th>Fare_999.99</th>\n",
       "      <td>0.039947</td>\n",
       "      <td>1.000000</td>\n",
       "      <td>0.045969</td>\n",
       "      <td>0.067762</td>\n",
       "      <td>-0.038289</td>\n",
       "      <td>0.234622</td>\n",
       "      <td>0.158722</td>\n",
       "      <td>0.052555</td>\n",
       "      <td>1.000000</td>\n",
       "    </tr>\n",
       "  </tbody>\n",
       "</table>\n",
       "</div>"
      ],
      "text/plain": [
       "                  Age      Fare    Family    Age_-1    Age_99  Fare_mean  \\\n",
       "Age          1.000000  0.091482 -0.319651  1.000000  1.000000   0.088944   \n",
       "Fare         0.091482  1.000000  0.207193  0.145071 -0.069365   1.000000   \n",
       "Family      -0.319651  0.207193  1.000000 -0.168329 -0.135079   0.204981   \n",
       "Age_-1       1.000000  0.145071 -0.168329  1.000000 -0.306576   0.141643   \n",
       "Age_99       1.000000 -0.069365 -0.135079 -0.306576  1.000000  -0.067972   \n",
       "Fare_mean    0.088944  1.000000  0.204981  0.141643 -0.067972   1.000000   \n",
       "Fare_median  0.087232  1.000000  0.204536  0.138471 -0.065991   0.997003   \n",
       "Fare_-11     0.084089  1.000000  0.201912  0.132738 -0.062611   0.983074   \n",
       "Fare_999.99  0.039947  1.000000  0.045969  0.067762 -0.038289   0.234622   \n",
       "\n",
       "             Fare_median  Fare_-11  Fare_999.99  \n",
       "Age             0.087232  0.084089     0.039947  \n",
       "Fare            1.000000  1.000000     1.000000  \n",
       "Family          0.204536  0.201912     0.045969  \n",
       "Age_-1          0.138471  0.132738     0.067762  \n",
       "Age_99         -0.065991 -0.062611    -0.038289  \n",
       "Fare_mean       0.997003  0.983074     0.234622  \n",
       "Fare_median     1.000000  0.994301     0.158722  \n",
       "Fare_-11        0.994301  1.000000     0.052555  \n",
       "Fare_999.99     0.158722  0.052555     1.000000  "
      ]
     },
     "execution_count": 21,
     "metadata": {},
     "output_type": "execute_result"
    }
   ],
   "source": [
    "X_train.corr()"
   ]
  },
  {
   "cell_type": "code",
   "execution_count": 22,
   "id": "0af26b08",
   "metadata": {},
   "outputs": [
    {
     "data": {
      "text/plain": [
       "<AxesSubplot:>"
      ]
     },
     "execution_count": 22,
     "metadata": {},
     "output_type": "execute_result"
    },
    {
     "data": {
      "image/png": "[encoded data removed]",
      "text/plain": [
       "<Figure size 432x288 with 1 Axes>"
      ]
     },
     "metadata": {
      "needs_background": "light"
     },
     "output_type": "display_data"
    }
   ],
   "source": [
    "X_train[[\"Age\",\"Age_-1\",\"Age_99\"]].boxplot()"
   ]
  },
  {
   "cell_type": "code",
   "execution_count": 23,
   "id": "a8fb7d45",
   "metadata": {},
   "outputs": [
    {
     "data": {
      "text/plain": [
       "<AxesSubplot:>"
      ]
     },
     "execution_count": 23,
     "metadata": {},
     "output_type": "execute_result"
    },
    {
     "data": {
      "image/png": "[encoded data removed]",
      "text/plain": [
       "<Figure size 432x288 with 1 Axes>"
      ]
     },
     "metadata": {
      "needs_background": "light"
     },
     "output_type": "display_data"
    }
   ],
   "source": [
    "X_train[[\"Fare\",\"Fare_-11\",\"Fare_999.99\"]].boxplot()"
   ]
  },
  {
   "cell_type": "code",
   "execution_count": 24,
   "id": "bc33c796",
   "metadata": {},
   "outputs": [],
   "source": [
    "X_train1,X_test1,y_train1,y_test1 = train_test_split(X,y,test_size=0.2,random_state=42)"
   ]
  },
  {
   "cell_type": "code",
   "execution_count": 25,
   "id": "1d5cdad1",
   "metadata": {},
   "outputs": [],
   "source": [
    "imputer1 = SimpleImputer(strategy=\"constant\",fill_value=-1)\n",
    "imputer2 = SimpleImputer(strategy=\"constant\",fill_value=999.99)"
   ]
  },
  {
   "cell_type": "code",
   "execution_count": 26,
   "id": "a049116b",
   "metadata": {},
   "outputs": [],
   "source": [
    "trf = ColumnTransformer([(\"imputer1\",imputer1,[\"Age\"]),(\"imputer2\",imputer2,[\"Fare\"])], remainder=\"passthrough\")"
   ]
  },
  {
   "cell_type": "code",
   "execution_count": 27,
   "id": "914ade21",
   "metadata": {},
   "outputs": [
    {
     "data": {
      "text/plain": [
       "ColumnTransformer(remainder='passthrough',\n",
       "                  transformers=[('imputer1',\n",
       "                                 SimpleImputer(fill_value=-1,\n",
       "                                               strategy='constant'),\n",
       "                                 ['Age']),\n",
       "                                ('imputer2',\n",
       "                                 SimpleImputer(fill_value=999.99,\n",
       "                                               strategy='constant'),\n",
       "                                 ['Fare'])])"
      ]
     },
     "execution_count": 27,
     "metadata": {},
     "output_type": "execute_result"
    }
   ],
   "source": [
    "trf.fit(X_train1)"
   ]
  },
  {
   "cell_type": "code",
   "execution_count": 28,
   "id": "0bc1d1c4",
   "metadata": {},
   "outputs": [
    {
     "data": {
      "text/plain": [
       "-1.0"
      ]
     },
     "execution_count": 28,
     "metadata": {},
     "output_type": "execute_result"
    }
   ],
   "source": [
    "trf.named_transformers_[\"imputer1\"].statistics_[0]\n"
   ]
  },
  {
   "cell_type": "code",
   "execution_count": 29,
   "id": "650e2262",
   "metadata": {},
   "outputs": [
    {
     "data": {
      "text/plain": [
       "999.99"
      ]
     },
     "execution_count": 29,
     "metadata": {},
     "output_type": "execute_result"
    }
   ],
   "source": [
    "trf.named_transformers_[\"imputer2\"].statistics_[0]"
   ]
  },
  {
   "cell_type": "code",
   "execution_count": 30,
   "id": "fabc5a34",
   "metadata": {},
   "outputs": [],
   "source": [
    "X_train1 = trf.transform(X_train1)\n",
    "X_test1 = trf.transform(X_test1)"
   ]
  },
  {
   "cell_type": "code",
   "execution_count": 34,
   "id": "5bf035b0",
   "metadata": {},
   "outputs": [
    {
     "data": {
      "text/html": [
       "<div>\n",
       "<style scoped>\n",
       "    .dataframe tbody tr th:only-of-type {\n",
       "        vertical-align: middle;\n",
       "    }\n",
       "\n",
       "    .dataframe tbody tr th {\n",
       "        vertical-align: top;\n",
       "    }\n",
       "\n",
       "    .dataframe thead th {\n",
       "        text-align: right;\n",
       "    }\n",
       "</style>\n",
       "<table border=\"1\" class=\"dataframe\">\n",
       "  <thead>\n",
       "    <tr style=\"text-align: right;\">\n",
       "      <th></th>\n",
       "      <th>0</th>\n",
       "      <th>1</th>\n",
       "      <th>2</th>\n",
       "    </tr>\n",
       "  </thead>\n",
       "  <tbody>\n",
       "    <tr>\n",
       "      <th>0</th>\n",
       "      <td>45.5</td>\n",
       "      <td>28.5000</td>\n",
       "      <td>0.0</td>\n",
       "    </tr>\n",
       "    <tr>\n",
       "      <th>1</th>\n",
       "      <td>23.0</td>\n",
       "      <td>13.0000</td>\n",
       "      <td>0.0</td>\n",
       "    </tr>\n",
       "    <tr>\n",
       "      <th>2</th>\n",
       "      <td>32.0</td>\n",
       "      <td>7.9250</td>\n",
       "      <td>0.0</td>\n",
       "    </tr>\n",
       "    <tr>\n",
       "      <th>3</th>\n",
       "      <td>26.0</td>\n",
       "      <td>7.8542</td>\n",
       "      <td>1.0</td>\n",
       "    </tr>\n",
       "    <tr>\n",
       "      <th>4</th>\n",
       "      <td>6.0</td>\n",
       "      <td>31.2750</td>\n",
       "      <td>6.0</td>\n",
       "    </tr>\n",
       "    <tr>\n",
       "      <th>...</th>\n",
       "      <td>...</td>\n",
       "      <td>...</td>\n",
       "      <td>...</td>\n",
       "    </tr>\n",
       "    <tr>\n",
       "      <th>707</th>\n",
       "      <td>21.0</td>\n",
       "      <td>7.6500</td>\n",
       "      <td>0.0</td>\n",
       "    </tr>\n",
       "    <tr>\n",
       "      <th>708</th>\n",
       "      <td>-1.0</td>\n",
       "      <td>31.0000</td>\n",
       "      <td>0.0</td>\n",
       "    </tr>\n",
       "    <tr>\n",
       "      <th>709</th>\n",
       "      <td>41.0</td>\n",
       "      <td>999.9900</td>\n",
       "      <td>2.0</td>\n",
       "    </tr>\n",
       "    <tr>\n",
       "      <th>710</th>\n",
       "      <td>14.0</td>\n",
       "      <td>120.0000</td>\n",
       "      <td>3.0</td>\n",
       "    </tr>\n",
       "    <tr>\n",
       "      <th>711</th>\n",
       "      <td>21.0</td>\n",
       "      <td>77.2875</td>\n",
       "      <td>1.0</td>\n",
       "    </tr>\n",
       "  </tbody>\n",
       "</table>\n",
       "<p>712 rows × 3 columns</p>\n",
       "</div>"
      ],
      "text/plain": [
       "        0         1    2\n",
       "0    45.5   28.5000  0.0\n",
       "1    23.0   13.0000  0.0\n",
       "2    32.0    7.9250  0.0\n",
       "3    26.0    7.8542  1.0\n",
       "4     6.0   31.2750  6.0\n",
       "..    ...       ...  ...\n",
       "707  21.0    7.6500  0.0\n",
       "708  -1.0   31.0000  0.0\n",
       "709  41.0  999.9900  2.0\n",
       "710  14.0  120.0000  3.0\n",
       "711  21.0   77.2875  1.0\n",
       "\n",
       "[712 rows x 3 columns]"
      ]
     },
     "execution_count": 34,
     "metadata": {},
     "output_type": "execute_result"
    }
   ],
   "source": [
    "pd.DataFrame(X_train1)"
   ]
  },
  {
   "cell_type": "code",
   "execution_count": null,
   "id": "5c76f23d",
   "metadata": {},
   "outputs": [],
   "source": []
  }
 ],
 "metadata": {
  "kernelspec": {
   "display_name": "Python 3",
   "language": "python",
   "name": "python3"
  },
  "language_info": {
   "codemirror_mode": {
    "name": "ipython",
    "version": 3
   },
   "file_extension": ".py",
   "mimetype": "text/x-python",
   "name": "python",
   "nbconvert_exporter": "python",
   "pygments_lexer": "ipython3",
   "version": "3.6.9"
  }
 },
 "nbformat": 4,
 "nbformat_minor": 5
}
